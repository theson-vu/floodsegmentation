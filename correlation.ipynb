{
 "cells": [
  {
   "cell_type": "code",
   "execution_count": 1,
   "metadata": {},
   "outputs": [
    {
     "name": "stderr",
     "output_type": "stream",
     "text": [
      "c:\\anaconda3\\envs\\master\\Lib\\site-packages\\tqdm\\auto.py:21: TqdmWarning: IProgress not found. Please update jupyter and ipywidgets. See https://ipywidgets.readthedocs.io/en/stable/user_install.html\n",
      "  from .autonotebook import tqdm as notebook_tqdm\n"
     ]
    }
   ],
   "source": [
    "import torch\n",
    "import segmentation_models_pytorch as smp\n",
    "import matplotlib.pyplot as plt\n",
    "import numpy as np\n",
    "from encoder import *\n",
    "import torch\n",
    "import math\n",
    "import glob\n",
    "from scipy.stats import pearsonr"
   ]
  },
  {
   "cell_type": "code",
   "execution_count": 2,
   "metadata": {},
   "outputs": [],
   "source": [
    "def correlate(model1, model2, data_input_1, data_input_2, flag=False):\n",
    "    # Check if encoder output channels are compatible\n",
    "    if model1.encoder._out_channels[1:] != model2.encoder._out_channels[1:] or flag:\n",
    "        print(torch.softmax(model2(data_input_2), dim=1)[:, 1].detach().cpu().shape)\n",
    "        return None, None, pearsonr(\n",
    "            torch.softmax(model1(data_input_1), dim=1)[:, 1].detach().cpu().flatten(),\n",
    "            torch.softmax(model2(data_input_2), dim=1)[:, 1].detach().cpu().flatten()\n",
    "        )\n",
    "\n",
    "    # Forward pass through both encoders\n",
    "    encoder_1 = model1.encoder(data_input_1)\n",
    "    encoder_2 = model2.encoder(data_input_2)\n",
    "\n",
    "    # Lists to store the intermediate outputs of the decoder blocks for both models\n",
    "    decoder_block_outputs1 = []\n",
    "    decoder_block_outputs2 = []\n",
    "\n",
    "    # Hook function to capture outputs from each decoder block of model1\n",
    "    def hook_fn1(module, input, output):\n",
    "        decoder_block_outputs1.append(output)\n",
    "\n",
    "    # Hook function to capture outputs from each decoder block of model2\n",
    "    def hook_fn2(module, input, output):\n",
    "        decoder_block_outputs2.append(output)\n",
    "\n",
    "    # Register hooks for decoder blocks in both models\n",
    "    for block in model1.decoder.blocks:\n",
    "        block.register_forward_hook(hook_fn1)\n",
    "\n",
    "    for block in model2.decoder.blocks:\n",
    "        block.register_forward_hook(hook_fn2)\n",
    "\n",
    "    # Forward pass through the decoders (the hooks will capture the intermediate outputs)\n",
    "    decoder_1 = model1.decoder(*encoder_1)\n",
    "    decoder_2 = model2.decoder(*encoder_2)\n",
    "\n",
    "    # Get predictions\n",
    "    preds1 = torch.softmax(model1(data_input_1), dim=1)[:, 1]\n",
    "    preds2 = torch.softmax(model2(data_input_2), dim=1)[:, 1]\n",
    "\n",
    "    # Encoder correlation\n",
    "    corr_encoder = {}\n",
    "    for i in range(1, len(encoder_1)):\n",
    "        corr_encoder[i] = pearsonr(\n",
    "            encoder_1[i].detach().cpu().numpy().flatten(),\n",
    "            encoder_2[i].detach().cpu().numpy().flatten()\n",
    "        )\n",
    "\n",
    "    # Decoder correlation (using the outputs captured by the hooks)\n",
    "    corr_decoder = {}\n",
    "    for i in range(len(decoder_block_outputs1)):\n",
    "        corr_decoder[i] = pearsonr(\n",
    "            decoder_block_outputs1[i].detach().cpu().numpy().flatten(),\n",
    "            decoder_block_outputs2[i].detach().cpu().numpy().flatten()\n",
    "        )\n",
    "\n",
    "    # Correlation of final predictions\n",
    "    corr_preds = pearsonr(preds1.detach().cpu().flatten(), preds2.detach().cpu().flatten())\n",
    "\n",
    "    return corr_encoder, corr_decoder, corr_preds\n"
   ]
  },
  {
   "cell_type": "code",
   "execution_count": 3,
   "metadata": {},
   "outputs": [],
   "source": [
    "model1 = smp.Unet(\n",
    "            encoder_name=f\"single_encoder_6\",\n",
    "            encoder_weights=None,\n",
    "            classes=2,\n",
    "            decoder_attention_type=\"scse\",\n",
    "            activation='sigmoid',\n",
    "        )\n",
    "\n",
    "model2 = smp.Unet(\n",
    "            encoder_name=f\"single_encoder_12\",\n",
    "            encoder_weights=None,\n",
    "            classes=2,\n",
    "            decoder_attention_type=\"scse\",\n",
    "            activation='sigmoid',\n",
    "        )\n",
    "\n",
    "model3 = smp.Unet(\n",
    "            encoder_name=\"dual_encoder_dft\",\n",
    "            encoder_depth=5,\n",
    "            encoder_weights=None,\n",
    "            classes=2,\n",
    "            decoder_attention_type=\"scse\",\n",
    "            activation='sigmoid',\n",
    "        )\n",
    "\n",
    "model4 = smp.Unet(\n",
    "            encoder_name=\"dual_resnet_encoder\",\n",
    "            encoder_depth=5,\n",
    "            encoder_weights=None,\n",
    "            classes=2,\n",
    "            decoder_attention_type=\"scse\",\n",
    "            activation='sigmoid',\n",
    "        )\n",
    "\n",
    "model5 = smp.Unet(\n",
    "            encoder_name=\"resnet50\",\n",
    "            classes=2,\n",
    "            decoder_attention_type=\"scse\",\n",
    "            activation='sigmoid',\n",
    "        )\n",
    "\n",
    "model6 = smp.Unet(\n",
    "            encoder_name=f\"single_encoder_24\",\n",
    "            encoder_weights=None,\n",
    "            classes=2,\n",
    "            decoder_attention_type=\"scse\",\n",
    "            activation='sigmoid',\n",
    "        )\n",
    "\n",
    "model7 = smp.Unet(\n",
    "            encoder_name=\"dual_encoder_wav\",\n",
    "            encoder_depth=5,\n",
    "            encoder_weights=None,\n",
    "            classes=2,\n",
    "            decoder_attention_type=\"scse\",\n",
    "            activation='sigmoid',\n",
    "        )\n",
    "\n",
    "# Loading data from precomputed dataset\n",
    "path = \"C:/Users/The Son/Desktop/Uni/Berlin/Masterarbeit/Data/model_data/test\"\n",
    "# Data/ms-dataset-chips\\\\95eff095-c3e9-4c12-bfde-1708b7e19bae\\\\s2\\\\S2A_MSIL1C_20170528T050611_N0205_R076_T44NNP_20170528T050606_00960-03063\\\\B12.tif'\n",
    "data = np.load(f\"{path}/1.npz\", allow_pickle=True)\n",
    "data = data[\"arr_0\"][0]\n",
    "X = data[\"image\"]\n",
    "X = torch.tensor(np.expand_dims(X, axis=0))\n",
    "amps = data[\"amplitude\"]\n",
    "phases = data[\"phase\"]\n",
    "wavelets = torch.tensor(np.expand_dims(data[\"wavelet\"], axis=0)).cuda(non_blocking=True).float()\n",
    "X = X.cuda(non_blocking=True).float()\n",
    "ap = torch.tensor(np.expand_dims(np.concatenate([amps, phases], axis=0), axis=0)).cuda(non_blocking=True).float()\n",
    "\n",
    "X_ap = np.concatenate([X.cpu().numpy(), ap.cpu().numpy()], axis=1)  # Concatenate on CPU first\n",
    "X_ap = torch.tensor(X_ap).cuda(non_blocking=True).float()"
   ]
  },
  {
   "cell_type": "code",
   "execution_count": 4,
   "metadata": {},
   "outputs": [
    {
     "name": "stdout",
     "output_type": "stream",
     "text": [
      "Loaded trained_models/baseline\\best_iou_35_0.7432.pt at epoch 35\n",
      "Loaded trained_models/dft\\best_iou_3_0.1556.pt at epoch 3\n",
      "Loaded trained_models/baseline_dft\\best_iou_21_0.7525.pt at epoch 21\n",
      "Loaded trained_models/baseline_deep\\best_iou_16_0.7599.pt at epoch 16\n",
      "Loaded trained_models/deep\\best_iou_23_0.5502.pt at epoch 23\n",
      "Loaded trained_models/wavelet\\best_iou_16_0.2671.pt at epoch 16\n",
      "Loaded trained_models/baseline_wavelet\\best_iou_9_0.3761.pt at epoch 9\n"
     ]
    }
   ],
   "source": [
    "# Load model 1\n",
    "model_weights_path_1 = glob.glob(f\"trained_models/baseline/best_iou*\")[0]\n",
    "model1 = model1.cuda()\n",
    "model1.eval()\n",
    "cp = torch.load(model_weights_path_1)\n",
    "model1.load_state_dict(cp[\"model_state_dict\"])\n",
    "print(f\"Loaded {model_weights_path_1} at epoch {cp['epoch_num']}\")\n",
    "\n",
    "# Load model 2\n",
    "model_weights_path_2 = glob.glob(f\"trained_models/dft/best_iou*\")[0]\n",
    "model2 = model2.cuda()\n",
    "model2.eval()\n",
    "cp = torch.load(model_weights_path_2)\n",
    "model2.load_state_dict(cp[\"model_state_dict\"])\n",
    "print(f\"Loaded {model_weights_path_2} at epoch {cp['epoch_num']}\")\n",
    "\n",
    "# Load model 3\n",
    "model_weights_path_3 = glob.glob(f\"trained_models/baseline_dft/best_iou*\")[0]\n",
    "model3 = model3.cuda()\n",
    "model3.eval()\n",
    "cp = torch.load(model_weights_path_3)\n",
    "model3.load_state_dict(cp[\"model_state_dict\"])\n",
    "print(f\"Loaded {model_weights_path_3} at epoch {cp['epoch_num']}\")\n",
    "\n",
    "# Load model 4\n",
    "model_weights_path_4 = glob.glob(f\"trained_models/baseline_deep/best_iou*\")[0]\n",
    "model4 = model4.cuda()\n",
    "model4.eval()\n",
    "cp = torch.load(model_weights_path_4)\n",
    "model4.load_state_dict(cp[\"model_state_dict\"])\n",
    "print(f\"Loaded {model_weights_path_4} at epoch {cp['epoch_num']}\")\n",
    "\n",
    "# Load model 5\n",
    "model_weights_path_5 = glob.glob(f\"trained_models/deep/best_iou*\")[0]\n",
    "model5 = model5.cuda()\n",
    "model5.eval()\n",
    "cp = torch.load(model_weights_path_5)\n",
    "model5.load_state_dict(cp[\"model_state_dict\"])\n",
    "print(f\"Loaded {model_weights_path_5} at epoch {cp['epoch_num']}\")\n",
    "\n",
    "# Load model 6\n",
    "model_weights_path_6 = glob.glob(f\"trained_models/wavelet/best_iou*\")[0]\n",
    "model6 = model6.cuda()\n",
    "model6.eval()\n",
    "cp = torch.load(model_weights_path_6)\n",
    "model6.load_state_dict(cp[\"model_state_dict\"])\n",
    "print(f\"Loaded {model_weights_path_6} at epoch {cp['epoch_num']}\")\n",
    "\n",
    "# Load model 7\n",
    "model_weights_path_7 = glob.glob(f\"trained_models/baseline_wavelet/best_iou*\")[0]\n",
    "model7 = model7.cuda()\n",
    "model7.encoder.wav = wavelets\n",
    "model7.eval()\n",
    "cp = torch.load(model_weights_path_7)\n",
    "model7.load_state_dict(cp[\"model_state_dict\"])\n",
    "print(f\"Loaded {model_weights_path_7} at epoch {cp['epoch_num']}\")"
   ]
  },
  {
   "cell_type": "code",
   "execution_count": 25,
   "metadata": {},
   "outputs": [
    {
     "data": {
      "text/plain": [
       "<matplotlib.image.AxesImage at 0x21935b0dfa0>"
      ]
     },
     "execution_count": 25,
     "metadata": {},
     "output_type": "execute_result"
    },
    {
     "data": {
      "image/png": "[encoded data removed]",
      "text/plain": [
       "<Figure size 640x480 with 1 Axes>"
      ]
     },
     "metadata": {},
     "output_type": "display_data"
    }
   ],
   "source": [
    "plt.imshow(X_ap[:, -12:, :, :].cpu().squeeze(0)[4, :, :])"
   ]
  },
  {
   "cell_type": "code",
   "execution_count": 9,
   "metadata": {},
   "outputs": [
    {
     "name": "stdout",
     "output_type": "stream",
     "text": [
      "torch.Size([1, 512, 512])\n",
      "model2: None, None, PearsonRResult(statistic=0.37966579213565665, pvalue=0.0)\n",
      "torch.Size([1, 512, 512])\n",
      "model3: None, None, PearsonRResult(statistic=0.32944795314766717, pvalue=0.0)\n",
      "torch.Size([1, 512, 512])\n",
      "model4: None, None, PearsonRResult(statistic=0.6353588703710444, pvalue=0.0)\n",
      "torch.Size([1, 512, 512])\n",
      "model5: None, None, PearsonRResult(statistic=0.7818044252309995, pvalue=0.0)\n",
      "torch.Size([1, 512, 512])\n",
      "model6: None, None, PearsonRResult(statistic=-0.06262492236485173, pvalue=5.1255461456061845e-226)\n",
      "torch.Size([1, 512, 512])\n",
      "model7: None, None, PearsonRResult(statistic=0.402275447354167, pvalue=0.0)\n"
     ]
    }
   ],
   "source": [
    "params = [ap, X_ap, X, X[:, :3, :, :], wavelets, X]\n",
    "i = 2\n",
    "for model, params in zip([model2, model3, model4, model5, model6, model7], params):\n",
    "    corr_enc, corr_dec, corr_pred = correlate(model1, model, X, params, True)\n",
    "    print(f\"model{i}: {corr_enc}, {corr_dec}, {corr_pred}\")\n",
    "    i += 1\n",
    "    torch.cuda.empty_cache()"
   ]
  }
 ],
 "metadata": {
  "kernelspec": {
   "display_name": "master",
   "language": "python",
   "name": "python3"
  },
  "language_info": {
   "codemirror_mode": {
    "name": "ipython",
    "version": 3
   },
   "file_extension": ".py",
   "mimetype": "text/x-python",
   "name": "python",
   "nbconvert_exporter": "python",
   "pygments_lexer": "ipython3",
   "version": "3.12.2"
  }
 },
 "nbformat": 4,
 "nbformat_minor": 2
}
